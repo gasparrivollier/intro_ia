{
 "cells": [
  {
   "cell_type": "code",
   "execution_count": 79,
   "id": "5568e5ba",
   "metadata": {},
   "outputs": [],
   "source": [
    "#Importamos las librerias y clases necesarias. Empezando por las de implementación de Hanoi disponibles en repo. \n",
    "from aima_libs.hanoi_states import StatesHanoi, ProblemHanoi\n",
    "from aima_libs.hanoi_states import ActionHanoi\n",
    "from aima_libs.tree_hanoi import NodeHanoi\n",
    "\n",
    "#Parametrizamos para ir aumentando discos \n",
    "discos=7\n",
    "\n",
    "\n",
    "#Seteamos estado inicial \n",
    "varilla_1 = list(range(discos, 0, -1))  # Discos en la varilla 1, de mayor a menor\n",
    "varilla_2 = [] \n",
    "varilla_3 = [] \n",
    "estado_inicial = StatesHanoi(varilla_1, varilla_2, varilla_3, max_disks=discos) \n",
    "\n",
    "#Seteamos estado final \n",
    "varilla_1 = []\n",
    "varilla_2 = [] \n",
    "varilla_3 = list(range(discos, 0, -1))  # Discos en la varilla 1, de mayor a menor\n",
    "estado_objetivo = StatesHanoi(varilla_1, varilla_2, varilla_3, max_disks=discos) \n",
    "\n"
   ]
  },
  {
   "cell_type": "code",
   "execution_count": 80,
   "id": "6942fbbe",
   "metadata": {},
   "outputs": [
    {
     "name": "stdout",
     "output_type": "stream",
     "text": [
      "El estado inicial es:  [[7, 6, 5, 4, 3, 2, 1], [], []]\n",
      "El estado objetivo es:  [[], [], [7, 6, 5, 4, 3, 2, 1]]\n"
     ]
    }
   ],
   "source": [
    "#Validacion de seteo de estados \n",
    "print(\"El estado inicial es: \", estado_inicial.get_state())\n",
    "print(\"El estado objetivo es: \", estado_objetivo.get_state())"
   ]
  },
  {
   "cell_type": "code",
   "execution_count": 81,
   "id": "f00c44e7",
   "metadata": {},
   "outputs": [],
   "source": [
    "#Inicializamos la clase problema de hanoi con estado inicial y objetivo \n",
    "problema_hanoi = ProblemHanoi(estado_inicial, estado_objetivo)"
   ]
  },
  {
   "cell_type": "code",
   "execution_count": 82,
   "id": "14d5128d",
   "metadata": {},
   "outputs": [],
   "source": [
    "#Inicializamos el nodo raiz del arbol de busqueda \n",
    "nodo_raiz = NodeHanoi(estado_inicial, None, None)"
   ]
  },
  {
   "cell_type": "code",
   "execution_count": 55,
   "id": "f28e6ab4",
   "metadata": {},
   "outputs": [
    {
     "name": "stdout",
     "output_type": "stream",
     "text": [
      "Se ha encontrado el objetivo:  HanoiState:  |  | 3 2 1\n",
      "El objetivo se ha encontrado en la busqueda por anchura\n"
     ]
    }
   ],
   "source": [
    "#Empezamos con algoritmo de busqueda por anchura primero para tener un benchmark. (Sin optimizar) \n",
    "#Ponemos nodo raiz en cola de nodos a explorar \n",
    "varObjetivoCumplido = False\n",
    "work_queue_nodos = [nodo_raiz]\n",
    "\n",
    "while len(work_queue_nodos) != 0: \n",
    "    #Extraemos el primer nodo \n",
    "    nodo_actual = work_queue_nodos.pop(0)\n",
    "    #Verificamos si nodo es objetivo. \n",
    "    if problema_hanoi.goal_test(nodo_actual.state): \n",
    "        print(\"Se ha encontrado el objetivo: \", nodo_actual.state)\n",
    "        varObjetivoCumplido = True\n",
    "        break\n",
    "    #Si no es objetivo, tenemos que expandir el nodo\n",
    "    else:\n",
    "        lista_acciones_posibles = problema_hanoi.actions(nodo_actual.state)\n",
    "        for accion in lista_acciones_posibles:\n",
    "            #Creamos el nuevo estado a partir de la accion y el estado actual \n",
    "            nuevo_estado = problema_hanoi.result(nodo_actual.state, accion)\n",
    "            #Creamos un nuevo nodo con el nuevo estado \n",
    "            nuevo_nodo = NodeHanoi(nuevo_estado, nodo_actual, accion)\n",
    "            #Agregamos el nodo a la cola de nodos a explorar \n",
    "            work_queue_nodos.append(nuevo_nodo)\n",
    "\n",
    "if varObjetivoCumplido == False: \n",
    "    print(\"No se ha encontrado el objetivo en la busqueda por anchura\")\n",
    "else: \n",
    "    print(\"El objetivo se ha encontrado en la busqueda por anchura\")\n",
    "\n"
   ]
  },
  {
   "cell_type": "code",
   "execution_count": null,
   "id": "93ea594f",
   "metadata": {},
   "outputs": [
    {
     "name": "stdout",
     "output_type": "stream",
     "text": [
      "Se ha encontrado el objetivo:  HanoiState:  |  | 7 6 5 4 3 2 1\n",
      "El objetivo se ha encontrado en la busqueda por anchura\n"
     ]
    }
   ],
   "source": [
    "#Empezamos con algoritmo de busqueda por anchura primero para tener un benchmark. (Optimizado con set de nodos chequeados) \n",
    "#Ponemos nodo raiz en cola de nodos a explorar \n",
    "varObjetivoCumplido = False\n",
    "work_queue_nodos = [nodo_raiz]\n",
    "nodos_chequeados = set()\n",
    "\n",
    "while len(work_queue_nodos) != 0: \n",
    "    #Extraemos el primer nodo \n",
    "    nodo_actual = work_queue_nodos.pop(0)\n",
    "    nodos_chequeados.add(nodo_actual.state)\n",
    "    #Verificamos si nodo es objetivo. \n",
    "    if problema_hanoi.goal_test(nodo_actual.state): \n",
    "        print(\"Se ha encontrado el objetivo: \", nodo_actual.state)\n",
    "        varObjetivoCumplido = True\n",
    "        break\n",
    "    #Si no es objetivo, tenemos que expandir el nodo\n",
    "    else:\n",
    "        lista_acciones_posibles = problema_hanoi.actions(nodo_actual.state)\n",
    "        for accion in lista_acciones_posibles:\n",
    "            #Creamos el nuevo estado a partir de la accion y el estado actual \n",
    "            nuevo_estado = problema_hanoi.result(nodo_actual.state, accion)\n",
    "            #Chequeamos si el estado ya fue chequeado. Si lo fue, seguimos al siguiente estado sin agregarlo a la cola de trabajo\n",
    "            if nuevo_estado in nodos_chequeados: \n",
    "                continue\n",
    "            #Creamos un nuevo nodo con el nuevo estado \n",
    "            nuevo_nodo = NodeHanoi(nuevo_estado, nodo_actual, accion)\n",
    "            #Agregamos el nodo a la cola de nodos a explorar \n",
    "            work_queue_nodos.append(nuevo_nodo)\n",
    "\n",
    "if varObjetivoCumplido == False: \n",
    "    print(\"No se ha encontrado el objetivo en la busqueda por anchura\")\n",
    "else: \n",
    "    print(\"El objetivo se ha encontrado en la busqueda por anchura\")\n",
    "\n"
   ]
  },
  {
   "cell_type": "code",
   "execution_count": null,
   "id": "7fc7b4f9",
   "metadata": {},
   "outputs": [],
   "source": [
    "#este ultimo ya puede correr con 4,5,6 e incluso 7 discos en menos de 5 segundos. \n",
    "#Luego ver si se puede optimizar aun mas "
   ]
  },
  {
   "cell_type": "code",
   "execution_count": 84,
   "id": "dc4ccca7",
   "metadata": {},
   "outputs": [
    {
     "name": "stdout",
     "output_type": "stream",
     "text": [
      "Se ha encontrado el objetivo:  HanoiState:  |  | 7 6 5 4 3 2 1\n",
      "El objetivo se ha encontrado en la busqueda por anchura\n"
     ]
    }
   ],
   "source": [
    "# Pasamos a búsqueda por profundidad primero \n",
    "\n",
    "#Ponemos nodo raiz en cola de nodos a explorar \n",
    "varObjetivoCumplido = False\n",
    "work_queue_nodos = [nodo_raiz]\n",
    "nodos_chequeados = set()\n",
    "\n",
    "while len(work_queue_nodos) != 0: \n",
    "    #Extraemos el primer nodo \n",
    "    nodo_actual = work_queue_nodos.pop(0)\n",
    "    nodos_chequeados.add(nodo_actual.state)\n",
    "    #Verificamos si nodo es objetivo. \n",
    "    if problema_hanoi.goal_test(nodo_actual.state): \n",
    "        print(\"Se ha encontrado el objetivo: \", nodo_actual.state)\n",
    "        varObjetivoCumplido = True\n",
    "        break\n",
    "    #Si no es objetivo, tenemos que expandir el nodo\n",
    "    else:\n",
    "        lista_acciones_posibles = problema_hanoi.actions(nodo_actual.state)\n",
    "        for accion in lista_acciones_posibles:\n",
    "            #Creamos el nuevo estado a partir de la accion y el estado actual \n",
    "            nuevo_estado = problema_hanoi.result(nodo_actual.state, accion)\n",
    "            #Chequeamos si el estado ya fue chequeado. Si lo fue, seguimos al siguiente estado sin agregarlo a la cola de trabajo\n",
    "            if nuevo_estado in nodos_chequeados: \n",
    "                continue\n",
    "            #Creamos un nuevo nodo con el nuevo estado \n",
    "            nuevo_nodo = NodeHanoi(nuevo_estado, nodo_actual, accion)\n",
    "            #Aca cambiamos el append por un insert al principio de la lista para cambiar a búsqueda por profundidad\n",
    "            work_queue_nodos.insert(0, nuevo_nodo)\n",
    "\n",
    "if varObjetivoCumplido == False: \n",
    "    print(\"No se ha encontrado el objetivo en la busqueda por anchura\")\n",
    "else: \n",
    "    print(\"El objetivo se ha encontrado en la busqueda por anchura\")"
   ]
  },
  {
   "cell_type": "code",
   "execution_count": null,
   "id": "c7010076",
   "metadata": {},
   "outputs": [],
   "source": []
  }
 ],
 "metadata": {
  "kernelspec": {
   "display_name": "CEIA_IIA_TP1",
   "language": "python",
   "name": "python3"
  },
  "language_info": {
   "codemirror_mode": {
    "name": "ipython",
    "version": 3
   },
   "file_extension": ".py",
   "mimetype": "text/x-python",
   "name": "python",
   "nbconvert_exporter": "python",
   "pygments_lexer": "ipython3",
   "version": "3.12.7"
  }
 },
 "nbformat": 4,
 "nbformat_minor": 5
}
