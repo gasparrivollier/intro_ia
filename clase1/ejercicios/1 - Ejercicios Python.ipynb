{
 "cells": [
  {
   "cell_type": "markdown",
   "metadata": {},
   "source": [
    "# Ejercicios de Python\n",
    "Inteligencia Artificial - Facundo A. Lucianna - CEIA - FIUBA\n",
    "\n",
    "A continuación veamos ejercicios de Python que deben resolver.\n",
    "\n",
    "**Ejercicio 1**: Imprima el texto `”Hola, estoy aprendiendo Python”`. Agregue un comentario de una sola línea antes de la impresión de texto que explique qué hace la función `print()`."
   ]
  },
  {
   "cell_type": "code",
   "execution_count": 1,
   "metadata": {},
   "outputs": [
    {
     "name": "stdout",
     "output_type": "stream",
     "text": [
      "Hola, estoy aprendiendo Python\n"
     ]
    }
   ],
   "source": [
    "print(\"Hola, estoy aprendiendo Python\")"
   ]
  },
  {
   "cell_type": "markdown",
   "metadata": {},
   "source": [
    "**Ejercicio 2**: Imprima el siguiente texto respetando el formato (use triple \"\"\"):\n",
    "\n",
    "```\n",
    "Sobre el puente de Avignon\n",
    "      Todos bailan, todos bailan\n",
    "Sobre el puente de Avignon\n",
    "      Todos bailan y yo también\n",
    "```"
   ]
  },
  {
   "cell_type": "code",
   "execution_count": 2,
   "metadata": {},
   "outputs": [
    {
     "name": "stdout",
     "output_type": "stream",
     "text": [
      "\n",
      "Sobre el puente de Avignon\n",
      "      Todos bailan, todos bailan\n",
      "Sobre el puente de Avignon\n",
      "      Todos bailan y yo también\n",
      "\n"
     ]
    }
   ],
   "source": [
    "avignon_song = \"\"\"\n",
    "Sobre el puente de Avignon\n",
    "      Todos bailan, todos bailan\n",
    "Sobre el puente de Avignon\n",
    "      Todos bailan y yo también\n",
    "\"\"\"\n",
    "\n",
    "print(avignon_song)"
   ]
  },
  {
   "cell_type": "markdown",
   "metadata": {},
   "source": [
    "**Ejercicio 3**: Crea las siguiente variables:\n",
    "\n",
    "```\n",
    "var1 = 1\n",
    "var2 = 3.14\n",
    "var3 = −8\n",
    "var4 = \"CEIoT\"\n",
    "```\n",
    "\n",
    "1. Realice las siguientes operaciones e imprímalas. Comente en la notebook qué operaciones se hace en cada caso:\n",
    "    1. `var1 + var2`\n",
    "    2. `var1 − var2`\n",
    "    3. `var3 / 3`\n",
    "    4. `var3 // 3`\n",
    "    5. `var3 % 3`\n",
    "    6. `var2 ** 2`\n",
    "    7. `var3 ∗ var2`\n",
    "    8. `var4 + var4`\n",
    "    9. `var4 * ((-1) * var3)`\n",
    "    10. `var4 / var2`\n",
    "2. ¿Todas las operaciones aquí listadas pueden realizar? Si la respuesta es no, cual no se puede realizar? ¿Qué error da Python? ¿Qué significa ese error?"
   ]
  },
  {
   "cell_type": "code",
   "execution_count": 4,
   "metadata": {},
   "outputs": [
    {
     "name": "stdout",
     "output_type": "stream",
     "text": [
      "4.140000000000001\n",
      "-2.14\n",
      "-2.6666666666666665\n",
      "-3\n",
      "1\n",
      "9.8596\n",
      "-4.859999999999999\n",
      "CEIoTCEIoT\n",
      "CEIoTCEIoTCEIoTCEIoTCEIoTCEIoTCEIoTCEIoT\n"
     ]
    }
   ],
   "source": [
    "var1 = 1\n",
    "var2 = 3.14\n",
    "var3 = -8\n",
    "var4 = \"CEIoT\"\n",
    "\n",
    "print(var1 + var2)\n",
    "print(var1 - var2) \n",
    "print(var3 / 3)\n",
    "print(var3 // 3)\n",
    "print(var3 % 3)\n",
    "print(var2 ** 2)\n",
    "print(var3 + var2)\n",
    "print(var4 + var4)\n",
    "print(var4* ((-1)*var3))\n",
    "# Error no se puede dividir un string por un número\n",
    "# print(var4 / var2)\n"
   ]
  },
  {
   "cell_type": "markdown",
   "metadata": {},
   "source": [
    "**Ejercicio 4**: Cree la variable `pi_string = \"3.1415926\"`\n",
    "1.  Conviertala en `float` (use la función `float()`) y guarda el resultado en la variable `pi_float`.\n",
    "2.  Imprima la variable `pi_float` con solo 3 decimales"
   ]
  },
  {
   "cell_type": "code",
   "execution_count": 5,
   "metadata": {},
   "outputs": [
    {
     "name": "stdout",
     "output_type": "stream",
     "text": [
      "3.142\n"
     ]
    }
   ],
   "source": [
    "pi_string = \"3.1415926\"\n",
    "pi_float = float(pi_string) \n",
    "print(round(pi_float, 3))  # Redondea a tres decimales"
   ]
  },
  {
   "cell_type": "code",
   "execution_count": 7,
   "metadata": {},
   "outputs": [
    {
     "name": "stdout",
     "output_type": "stream",
     "text": [
      "3.142\n"
     ]
    }
   ],
   "source": [
    "print(f\"{pi_float:.3f}\")"
   ]
  },
  {
   "cell_type": "markdown",
   "metadata": {},
   "source": [
    "**Ejercicio 5**: Crea una variable con el string: `\"Me gusta la comida mexicana\"`.\n",
    "1. Crea una variable que se llame `mexican_food` que sea booleana.\n",
    "2. Mediante control de flujo, imprima condicionalmente la variable string si la variable del apartado 1 es verdadera."
   ]
  },
  {
   "cell_type": "code",
   "execution_count": 9,
   "metadata": {},
   "outputs": [
    {
     "name": "stdout",
     "output_type": "stream",
     "text": [
      "Me gusta la comida mexicana\n"
     ]
    }
   ],
   "source": [
    "mexican_food_string = \"Me gusta la comida mexicana\"\n",
    "mexican_food = True \n",
    "if mexican_food: \n",
    "    print(mexican_food_string)\n"
   ]
  },
  {
   "cell_type": "markdown",
   "metadata": {},
   "source": [
    "**Ejercicio 6**: Imprima la fecha y hora actual (utilice la librería [datetime](https://www.w3schools.com/python/python_datetime.asp))"
   ]
  },
  {
   "cell_type": "code",
   "execution_count": null,
   "metadata": {},
   "outputs": [
    {
     "name": "stdout",
     "output_type": "stream",
     "text": [
      "2025-05-30 12:06:08.030932\n"
     ]
    }
   ],
   "source": [
    "import datetime\n",
    "\n",
    "x = datetime.datetime.now()\n",
    "print(x)"
   ]
  },
  {
   "cell_type": "markdown",
   "metadata": {},
   "source": [
    "**Ejercicio 7**: Imprima el calendario del mes de Marzo de 2023 (utilice la librería [calendar](https://www.geeksforgeeks.org/python-calendar-module/))"
   ]
  },
  {
   "cell_type": "code",
   "execution_count": 12,
   "metadata": {},
   "outputs": [
    {
     "name": "stdout",
     "output_type": "stream",
     "text": [
      "     March 2023\n",
      "Mo Tu We Th Fr Sa Su\n",
      "       1  2  3  4  5\n",
      " 6  7  8  9 10 11 12\n",
      "13 14 15 16 17 18 19\n",
      "20 21 22 23 24 25 26\n",
      "27 28 29 30 31\n",
      "\n"
     ]
    }
   ],
   "source": [
    "import calendar \n",
    "  \n",
    "yy = 2023\n",
    "mm = 3\n",
    "print(calendar.month(yy, mm)) "
   ]
  },
  {
   "cell_type": "markdown",
   "metadata": {},
   "source": [
    "**Ejercicio 8**: Usando Python resuelva este ejercicio:\n",
    "```\n",
    "Supongamos que tenemos U$D 100, el cual se puede invertir y retornar el 10% extra cada año. Es decir, después del primer año tendríamos 100 * 1.1 = 110, luego de dos años 100 * 1.1 * 1.1 = 121.\n",
    "\n",
    "Calcule la cantidad de plata que uno tendría luego de 7 años, y después de 23 años.\n",
    "```"
   ]
  },
  {
   "cell_type": "code",
   "execution_count": 14,
   "metadata": {},
   "outputs": [
    {
     "name": "stdout",
     "output_type": "stream",
     "text": [
      "194.87171000000012\n",
      "895.430243255239\n"
     ]
    }
   ],
   "source": [
    "def interest_calculator(initial_amount, interest_rate, years):\n",
    "    final_amount = initial_amount * (1+interest_rate) ** years\n",
    "    return final_amount\n",
    "\n",
    "print(interest_calculator(100, 0.1, 7))\n",
    "\n",
    "print(interest_calculator(100, 0.1, 23))"
   ]
  },
  {
   "cell_type": "markdown",
   "metadata": {},
   "source": [
    "**Ejercicio 9**: Introduzca el código del punto anterior en una función. Que los argumentos sean la inversión inicial, el interés y la cantidad de años. Obtenga diferentes salidas combinando estas variables."
   ]
  },
  {
   "cell_type": "code",
   "execution_count": 15,
   "metadata": {},
   "outputs": [],
   "source": [
    "#Already done that way"
   ]
  },
  {
   "cell_type": "markdown",
   "metadata": {},
   "source": [
    "**Ejercicio 10**: Escriba una función que teste si un número está entre 100 y 2000."
   ]
  },
  {
   "cell_type": "code",
   "execution_count": 19,
   "metadata": {},
   "outputs": [
    {
     "name": "stdout",
     "output_type": "stream",
     "text": [
      "True\n",
      "False\n"
     ]
    }
   ],
   "source": [
    "def number_range_checker(number):\n",
    "    if (number > 100) and (number < 2000):\n",
    "        in_range = True\n",
    "    else:\n",
    "        in_range = False\n",
    "    return in_range\n",
    "\n",
    "print(number_range_checker(150))  # True\n",
    "print(number_range_checker(50))   # False"
   ]
  },
  {
   "cell_type": "markdown",
   "metadata": {},
   "source": [
    "**Ejercicio 11**: Escriba una función que verifique si dado un número natural, si es capicúa (por ejemplo 12321 o 90809)."
   ]
  },
  {
   "cell_type": "code",
   "execution_count": 21,
   "metadata": {},
   "outputs": [
    {
     "name": "stdout",
     "output_type": "stream",
     "text": [
      "True\n",
      "False\n"
     ]
    }
   ],
   "source": [
    "def capicua_checker(number: int):\n",
    "    number_str = str(number)\n",
    "    reversed_number_str = number_str[::-1]\n",
    "    if number_str == reversed_number_str:\n",
    "        return True\n",
    "    else:\n",
    "        return False\n",
    "    \n",
    "print(capicua_checker(12321))  # True\n",
    "print(capicua_checker(12345))  # False"
   ]
  },
  {
   "cell_type": "markdown",
   "metadata": {},
   "source": [
    "**Ejercicio 12**: \n",
    "1. Escriba una función que dado un string reemplaza todos los caracteres con `\"*\"` menos los últimos 5 caracteres.\n",
    "2. Modifique la función para que un argumento opcional se pueda cambiar cuantos caracteres se quieren dejar sin `\"*\"`."
   ]
  },
  {
   "cell_type": "code",
   "execution_count": 24,
   "metadata": {},
   "outputs": [
    {
     "name": "stdout",
     "output_type": "stream",
     "text": [
      "**************************teres\n",
      "12345\n",
      "*********************caracteres\n",
      "**345\n"
     ]
    }
   ],
   "source": [
    "# 1\n",
    "# funcion de hashing de una cadena de texto\n",
    "def mask_string(text: str):\n",
    "    if len(text) <= 5:\n",
    "        return text\n",
    "    return \"*\" * (len(text) - 5) + text[-5:]\n",
    "\n",
    "print(mask_string(\"prueba de hashing de caracteres\"))\n",
    "print(mask_string(\"12345\"))  # \"12345\"\n",
    "\n",
    "# 2\n",
    "# funcion de hashing con numero de caracteres variable\n",
    "def mask_string_v2(text: str, num_chars: int = 5):\n",
    "    if len(text) <= num_chars:\n",
    "        return text\n",
    "    return \"*\" * (len(text) - num_chars) + text[-num_chars:]\n",
    "\n",
    "print(mask_string_v2(\"prueba de hashing de caracteres\", 10))\n",
    "print(mask_string_v2(\"12345\", 3)) "
   ]
  },
  {
   "cell_type": "markdown",
   "metadata": {},
   "source": [
    "**Ejercicio 13**: \n",
    "1. Escriba una función que dado el radio (número flotante) como entrada devuelva el diámetro, circunferencia y área de un círculo.\n",
    "2. Agregue un argumento opcional dimensión que por defecto es 2, si es 3 retorna el diámetro y el volumen de una esfera. Cualquier otro valor, retorne\n",
    "-1."
   ]
  },
  {
   "cell_type": "code",
   "execution_count": 26,
   "metadata": {},
   "outputs": [
    {
     "name": "stdout",
     "output_type": "stream",
     "text": [
      "(4.468, 14.036635976239195, 15.678922385459183)\n",
      "(4.468, 14.036635976239195, 15.678922385459183)\n",
      "(4.468, 46.70228347882108)\n"
     ]
    }
   ],
   "source": [
    "#1\n",
    "import math\n",
    "def circle_parameter_calculator(radius: float):\n",
    "    if radius < 0:\n",
    "        return \"El radio no puede ser negativo\"\n",
    "    diametro = 2 * radius\n",
    "    perimetro = 2 * math.pi * radius \n",
    "    area = math.pi * radius ** 2\n",
    "    return diametro, perimetro, area\n",
    "\n",
    "print(circle_parameter_calculator(2.234)) \n",
    "\n",
    "#2 \n",
    "\n",
    "def circle_parameter_calculator_v2(radius: float, dimension: int = 2):\n",
    "    if (dimension not in [2, 3]) or radius < 0:\n",
    "        return -1\n",
    "    if dimension == 2:\n",
    "        diametro = 2 * radius\n",
    "        perimetro = 2 * math.pi * radius \n",
    "        area = math.pi * radius ** 2\n",
    "        return diametro, perimetro, area\n",
    "    if dimension == 3:\n",
    "        diametro = 2 * radius\n",
    "        volumen = (4/3) * math.pi * radius ** 3\n",
    "        return diametro, volumen\n",
    "    \n",
    "print(circle_parameter_calculator_v2(2.234, 2))  # 2D case\n",
    "print(circle_parameter_calculator_v2(2.234, 3))  # 3D case\n"
   ]
  },
  {
   "cell_type": "markdown",
   "metadata": {},
   "source": [
    "**Ejercicio 14**: Genere una lista formada por los números naturales desde el 1 hasta el 9 incluidos llamada `mi_lista` usado list comprehension.\n",
    "1. Imprima el primer, el quinto y último elemento, y además la cantidad de elementos que tiene la lista.\n",
    "2. Cree una lista nueva que incluya solamente desde el segundo al sexto elemento.\n",
    "3. Quite el último elemento de la lista `mi_lista` y guárdelo en una variable llamada `ultimo_elemento`.\n",
    "4. Quite el tercer elemento de la lista `mi_lista`.\n",
    "5. Agregue el número 4 al final de `mi_lista`.\n",
    "6. Agregue el string `\"Soy un string\"` en la tercera posición de `mi_lista`."
   ]
  },
  {
   "cell_type": "code",
   "execution_count": 32,
   "metadata": {},
   "outputs": [
    {
     "name": "stdout",
     "output_type": "stream",
     "text": [
      "[1, 3, 'Soy un string', 4, 5, 6, 7, 8, 4]\n",
      "[2, 3, 4, 5, 6, 7]\n",
      "9\n"
     ]
    }
   ],
   "source": [
    "mi_lista = [1, 2, 3, 4 ,5 ,6, 7, 8, 9]\n",
    "mi_lista_nueva = mi_lista[1:7]\n",
    "mi_lista_nueva \n",
    "ultimo_elemento = mi_lista[-1]\n",
    "mi_lista.remove(ultimo_elemento)\n",
    "mi_lista.remove(2)\n",
    "mi_lista.append(4)\n",
    "mi_lista.insert(2, \"Soy un string\")\n",
    "print(mi_lista)  # [1, 3, 'Soy un string', 4, 5, 6, 7, 8, 9]\n",
    "print(mi_lista_nueva)  # [2, 3, 4, 5, 6, 7]\n",
    "print(ultimo_elemento)  # 9"
   ]
  },
  {
   "cell_type": "markdown",
   "metadata": {},
   "source": [
    "**Ejercicio 15**: Escriba una función que devuelva una tupla de todos los números impares dado un valor de inicio y final. Siendo el de inicio opcional, con valor por defecto igual a 1."
   ]
  },
  {
   "cell_type": "code",
   "execution_count": 35,
   "metadata": {},
   "outputs": [
    {
     "name": "stdout",
     "output_type": "stream",
     "text": [
      "(1, 3, 5, 7, 9)\n",
      "(5, 7, 9, 11)\n"
     ]
    }
   ],
   "source": [
    "import math\n",
    "def tupla_printer(fin, inicio=1):\n",
    "    if inicio % 2 == 0:\n",
    "        inicio += 1\n",
    "        tupla_result = tuple(range(inicio, fin + 1, 2))\n",
    "    else: \n",
    "        tupla_result = tuple(range(inicio, fin + 1, 2))\n",
    "    return tupla_result\n",
    "print(tupla_printer(10))  # (1, 3, 5, 7, 9)\n",
    "print(tupla_printer(11,4))\n",
    "    "
   ]
  },
  {
   "cell_type": "markdown",
   "metadata": {},
   "source": [
    "**Ejercicio 16**: Escriba una función que realice la suma de dos vectores. Para \"armar\" a los vectores vamos a usar listas de igual tamaño. La función debe devolver el vector suma en forma de lista."
   ]
  },
  {
   "cell_type": "code",
   "execution_count": null,
   "metadata": {},
   "outputs": [
    {
     "name": "stdout",
     "output_type": "stream",
     "text": [
      "[5, 7, 9]\n"
     ]
    }
   ],
   "source": [
    "def vector_sum(vector1: list, vector2: list): \n",
    "    if len(vector1) != len(vector2):\n",
    "        return \"Los vectores deben tener la misma longitud\"\n",
    "    return [a + b for a, b in zip(vector1, vector2)]\n",
    "print(vector_sum([1, 2, 3], [4, 5, 6]))  # [5, 7, 9]"
   ]
  },
  {
   "cell_type": "markdown",
   "metadata": {},
   "source": [
    "**Ejercicio 17**: Cree un diccionario llamado datos_personales con los siguientes datos:\n",
    "```\n",
    "nombre: Pedro\n",
    "apellido: Perez\n",
    "edad: 43\n",
    "```\n",
    "\n",
    "1. Imprima el apellido.\n",
    "2. Cambie el valor de la edad a 24.\n",
    "3. Agregue dos elementos:\n",
    "```\n",
    "    tipo de sangre: A\n",
    "    dirección: Av. Colón 1132.\n",
    "```\n",
    "4. Elimine el elemento tipo de sangre.\n",
    "5. Imprima todo el diccionario."
   ]
  },
  {
   "cell_type": "code",
   "execution_count": null,
   "metadata": {},
   "outputs": [
    {
     "name": "stdout",
     "output_type": "stream",
     "text": [
      "{'nombre': 'Pedro', 'apellido': 'Perez', 'edad': 24, 'dirección': 'Av. Colón 1132.'}\n",
      "{'nombre': 'Pedro', 'apellido': 'Perez', 'edad': 24, 'dirección': 'Av. Colón 1132.', 'tipo de sangre': 'A'}\n",
      "dict_items([('nombre', 'Pedro'), ('apellido', 'Perez'), ('edad', 24), ('dirección', 'Av. Colón 1132.'), ('tipo de sangre', 'A')])\n"
     ]
    }
   ],
   "source": [
    "# Diccionarios datos_personales \n",
    "datos_personales = {\n",
    "    \"nombre\": \"Pedro\",\n",
    "    \"apellido\": \"Perez\",\n",
    "    \"edad\": 43\n",
    "    }\n",
    "#1\n",
    "dict.get(datos_personales, \"apellido\")\n",
    "datos_personales.get(\"apellido\")\n",
    "\n",
    "# 2. Cambiar la edad a 24\n",
    "datos_personales[\"edad\"] = 24\n",
    "\n",
    "# 3. Agregar tipo de sangre y dirección\n",
    "datos_personales[\"tipo de sangre\"] = \"A\"\n",
    "datos_personales[\"dirección\"] = \"Av. Colón 1132.\"\n",
    "\n",
    "# 4. Eliminar el elemento tipo de sangre\n",
    "del datos_personales[\"tipo de sangre\"]\n",
    "\n",
    "# 5. Imprimir todo el diccionario\n",
    "print(datos_personales)\n",
    "\n",
    "# 6. adicional con .update .get exploracion de metodos \n",
    "datos_personales.update({\"tipo de sangre\":\"A\"})\n",
    "print(datos_personales)\n",
    "print(datos_personales.items())\n"
   ]
  },
  {
   "cell_type": "markdown",
   "metadata": {},
   "source": [
    "**Ejercicio 18**: Cree un programa que usando while sume los números del 1 a 1000. Al final imprima la suma."
   ]
  },
  {
   "cell_type": "code",
   "execution_count": null,
   "metadata": {},
   "outputs": [
    {
     "name": "stdout",
     "output_type": "stream",
     "text": [
      "500500\n"
     ]
    }
   ],
   "source": [
    "# programa que sume del 1 al 1000 while i<1000\n",
    "i=0\n",
    "summarizer = 0\n",
    "while i <= 1000: \n",
    "    summarizer += i\n",
    "    i += 1\n",
    "print(summarizer)  # 500500"
   ]
  },
  {
   "cell_type": "markdown",
   "metadata": {},
   "source": [
    "**Ejercicio 19**: Usando for:\n",
    "1. Imprima todos los elementos de la lista `mi_lista` del ejercicio 14.\n",
    "2. Genere una nueva lista que sea los valores al cuadrado de todos los elementos de `mi_lista` que sean numéricos."
   ]
  },
  {
   "cell_type": "code",
   "execution_count": null,
   "metadata": {},
   "outputs": [
    {
     "name": "stdout",
     "output_type": "stream",
     "text": [
      "[1, 3, 'Soy un string', 4, 5, 6, 7, 8, 4]\n",
      "[1, 9, 16, 25, 36, 49, 64, 16]\n"
     ]
    }
   ],
   "source": [
    "# print inicial lista\n",
    "print(mi_lista)  # [1, 3, 'Soy un string', 4, 5, 6, 7, 8]\n",
    "\n",
    "# Declarar lista nueva vacia\n",
    "mi_lista_nueva = []\n",
    "\n",
    "# tomar valores numericos de lista\n",
    "\n",
    "for item in mi_lista:\n",
    "    if isinstance(item, int):\n",
    "        # elevar al cuadrado los numeros a la lista nueva\n",
    "        mi_lista_nueva.append(item**2)\n",
    "# print final\n",
    "print(mi_lista_nueva)  # [1, 3, 4, 5, 6, 7, 8]\n"
   ]
  },
  {
   "cell_type": "markdown",
   "metadata": {},
   "source": [
    "**Ejercicio 20**: Calcule los primeros 30 números primos"
   ]
  },
  {
   "cell_type": "code",
   "execution_count": 67,
   "metadata": {},
   "outputs": [
    {
     "name": "stdout",
     "output_type": "stream",
     "text": [
      "[2, 3, 5, 7, 11, 13, 17, 19, 23, 29, 31, 37, 41, 43, 47, 53, 59, 61, 67, 71, 73, 79, 83, 89, 97, 101, 103, 107, 109, 113]\n"
     ]
    }
   ],
   "source": [
    "prime_numbers = [] \n",
    "prime_numbers.append(2)\n",
    "lista_impares = []\n",
    "iterador = 1\n",
    "while len(prime_numbers) < 30:\n",
    "    isPrime = True\n",
    "    iterador += 1\n",
    "    if iterador % 2 == 0:\n",
    "        isPrime = False\n",
    "        continue\n",
    "    else:\n",
    "        lista_impares.append(iterador)\n",
    "        for impar in lista_impares:\n",
    "            if iterador % impar == 0 and iterador != impar:\n",
    "                isPrime = False\n",
    "                break\n",
    "    if isPrime:\n",
    "        prime_numbers.append(iterador)\n",
    "\n",
    "print(prime_numbers)  # Lista de los primeros 30 números primos\n"
   ]
  },
  {
   "cell_type": "code",
   "execution_count": 72,
   "metadata": {},
   "outputs": [],
   "source": [
    "# Mas eficiente, utilizando validacion de raiz de n \n",
    "prime_numbers = [2]  # Ya incluimos el primer primo\n",
    "iterador = 3  # Empezamos a probar desde el 3\n",
    "\n",
    "while len(prime_numbers) < 100000:\n",
    "    isPrime = True\n",
    "    for primo in prime_numbers:\n",
    "        if primo * primo > iterador:  # No hace falta ir más allá de la raíz cuadrada\n",
    "            break\n",
    "        if iterador % primo == 0:\n",
    "            isPrime = False\n",
    "            break\n",
    "    if isPrime:\n",
    "        prime_numbers.append(iterador)\n",
    "    iterador += 2  # Solo probamos impares\n",
    "\n"
   ]
  },
  {
   "cell_type": "markdown",
   "metadata": {},
   "source": [
    "**Ejercicio 21**: Escriba una función que construya el patrón que tenga como argumento de entrada el maximo numero de asterisco de la punta (valor minimo igual a 2):\n",
    "\n",
    "```\n",
    "*\n",
    "**\n",
    "***\n",
    "****\n",
    "*****\n",
    "****\n",
    "***\n",
    "**\n",
    "*\n",
    "```"
   ]
  },
  {
   "cell_type": "code",
   "execution_count": 75,
   "metadata": {},
   "outputs": [
    {
     "name": "stdout",
     "output_type": "stream",
     "text": [
      "*\n",
      "**\n",
      "***\n",
      "****\n",
      "*****\n",
      "******\n",
      "*******\n",
      "********\n",
      "*********\n",
      "**********\n",
      "*********\n",
      "********\n",
      "*******\n",
      "******\n",
      "*****\n",
      "****\n",
      "***\n",
      "**\n",
      "*\n"
     ]
    }
   ],
   "source": [
    "def patron_asteriscos(max_asteriscos):\n",
    "    if max_asteriscos < 2:\n",
    "        print(\"El valor mínimo debe ser 2.\")\n",
    "        return\n",
    "\n",
    "    # Parte ascendente\n",
    "    for i in range(1, max_asteriscos + 1):\n",
    "        print('*' * i)\n",
    "\n",
    "    # Parte descendente\n",
    "    for i in range(max_asteriscos - 1, 0, -1):\n",
    "        print('*' * i)\n",
    "\n",
    "# Ejemplo con max_asteriscos = 5\n",
    "patron_asteriscos(10)\n"
   ]
  },
  {
   "cell_type": "markdown",
   "metadata": {},
   "source": [
    "**Ejercicio 22**: El matemático aleman Gottfried Leibniz desarrolló un método para aproximar el valor de π:\n",
    "\n",
    "$$ \\pi = 4 \\sum_{n=0}^{\\infty} \\frac{(-1)^n}{2n + 1} $$\n",
    "\n",
    "Escriba una función que mediante un argumento especifique el número de iteraciones usadas para aproximarse usando esta serie e imprima en pantalla el valor resultante."
   ]
  },
  {
   "cell_type": "code",
   "execution_count": 87,
   "metadata": {},
   "outputs": [
    {
     "data": {
      "text/plain": [
       "3.1415426535898248"
      ]
     },
     "execution_count": 87,
     "metadata": {},
     "output_type": "execute_result"
    }
   ],
   "source": [
    "def pi_approximator(n: int):\n",
    "    if n<= 0:\n",
    "        return \"El número de términos debe ser mayor que 0\"\n",
    "    pi_sum_leibniz = 0\n",
    "    for i in range(n):\n",
    "        pi_sum_leibniz += ((-1)**i)/(2*i+1)\n",
    "    pi_sum_leibniz *= 4\n",
    "    return pi_sum_leibniz\n",
    "\n",
    "pi_approximator(20000)"
   ]
  },
  {
   "cell_type": "markdown",
   "metadata": {},
   "source": [
    "**Ejercicio 25**: Escriba un script para crear una función **lambda** que sume 15 a un número dado pasado como argumento, también cree una función **lambda** que multiplique el argumento x con el argumento y e imprima el resultado."
   ]
  },
  {
   "cell_type": "code",
   "execution_count": 90,
   "metadata": {},
   "outputs": [
    {
     "name": "stdout",
     "output_type": "stream",
     "text": [
      "18\n",
      "35\n"
     ]
    }
   ],
   "source": [
    "sumar_15 = lambda x: x + 15\n",
    "lambda_multiply = lambda x, y: x * y\n",
    "\n",
    "print(sumar_15(3))\n",
    "print(lambda_multiply(5,7))"
   ]
  },
  {
   "cell_type": "markdown",
   "metadata": {},
   "source": [
    "**Ejercicio 26**: Un sistema de administración de perros de una veterinaria permite cargar datos del perro:\n",
    "```\n",
    "Nombre del perro\n",
    "Nombre completo del dueño\n",
    "Peso\n",
    "Raza\n",
    "```\n",
    "\n",
    "Defina una clase llamada `Dog` que se inicie con todos los atributos vacíos y que con diferentes métodos se puedan completar la información y mostrar la información."
   ]
  },
  {
   "cell_type": "code",
   "execution_count": 106,
   "metadata": {},
   "outputs": [],
   "source": [
    "class dog:\n",
    "    def __init__(self, dog_name, owner_name, weight, race):\n",
    "        self.dog_name = dog_name\n",
    "        self.owner_name = owner_name\n",
    "        self.weight = weight\n",
    "        self.race = race \n",
    "    def dog_name_updater(self, dog_name):\n",
    "        self.dog_name = dog_name\n",
    "    def owner_name_updater(self, owner_name):\n",
    "        self.owner_name = owner_name\n",
    "    def weight_updater(self, weight):\n",
    "        self.weight = weight\n",
    "    def race_updater(self, race):\n",
    "        self.race = race\n",
    "    def data_display(self):\n",
    "        print(f\"Dog Name: {self.dog_name}, Owner Name: {self.owner_name}, Weight: {self.weight}, Race: {self.race}\")\n",
    "\n",
    "\n",
    "\n",
    "    \n",
    "    \n"
   ]
  },
  {
   "cell_type": "code",
   "execution_count": 107,
   "metadata": {},
   "outputs": [],
   "source": [
    "labrador = dog(\"Bobby\", \"Javier\", 98.4, \"Dalmata\")"
   ]
  },
  {
   "cell_type": "code",
   "execution_count": 108,
   "metadata": {},
   "outputs": [],
   "source": [
    "labrador.race_updater(\"Labrador\")"
   ]
  },
  {
   "cell_type": "code",
   "execution_count": 110,
   "metadata": {},
   "outputs": [
    {
     "name": "stdout",
     "output_type": "stream",
     "text": [
      "Dog Name: Bobby, Owner Name: Javier, Weight: 98.4, Race: Labrador\n"
     ]
    }
   ],
   "source": [
    "labrador.data_display()"
   ]
  },
  {
   "cell_type": "code",
   "execution_count": 111,
   "metadata": {},
   "outputs": [
    {
     "name": "stdout",
     "output_type": "stream",
     "text": [
      "Dog Name: Rex, Owner Name: Carlos, Weight: 12.5, Race: Labrador\n",
      "Dog Name: Rex, Owner Name: Ana, Weight: 13, Race: Labrador\n"
     ]
    }
   ],
   "source": [
    "class Dog:\n",
    "    def __init__(self, dog_name, owner_name, weight, race):\n",
    "        self.dog_name = dog_name\n",
    "        self.owner_name = owner_name\n",
    "        self.weight = weight\n",
    "        self.race = race \n",
    "\n",
    "    def dog_name_updater(self, dog_name):\n",
    "        self.dog_name = dog_name\n",
    "\n",
    "    def owner_name_updater(self, owner_name):\n",
    "        self.owner_name = owner_name  # corregido\n",
    "\n",
    "    def weight_updater(self, weight):\n",
    "        self.weight = weight\n",
    "\n",
    "    def race_updater(self, race):\n",
    "        self.race = race\n",
    "\n",
    "    def data_display(self):\n",
    "        print(f\"Dog Name: {self.dog_name}, Owner Name: {self.owner_name}, Weight: {self.weight}, Race: {self.race}\")\n",
    "\n",
    "# Ejemplo de uso:\n",
    "mi_perro = Dog(\"Rex\", \"Carlos\", 12.5, \"Labrador\")\n",
    "mi_perro.data_display()\n",
    "mi_perro.owner_name_updater(\"Ana\")\n",
    "mi_perro.weight_updater(13)\n",
    "mi_perro.data_display()\n"
   ]
  },
  {
   "cell_type": "code",
   "execution_count": null,
   "metadata": {},
   "outputs": [],
   "source": []
  }
 ],
 "metadata": {
  "kernelspec": {
   "display_name": "Python 3",
   "language": "python",
   "name": "python3"
  },
  "language_info": {
   "codemirror_mode": {
    "name": "ipython",
    "version": 3
   },
   "file_extension": ".py",
   "mimetype": "text/x-python",
   "name": "python",
   "nbconvert_exporter": "python",
   "pygments_lexer": "ipython3",
   "version": "3.13.3"
  }
 },
 "nbformat": 4,
 "nbformat_minor": 2
}
