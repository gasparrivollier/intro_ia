{
 "cells": [
  {
   "cell_type": "markdown",
   "metadata": {
    "id": "e_9yLYRpF9BA"
   },
   "source": [
    "# Ejercicios de Numpy\n",
    "Inteligencia Artificial - Facundo A. Lucianna - CEIA - FIUBA\n",
    "\n",
    "A continuación veamos ejercicios de Numpy que deben resolver.\n",
    "\n",
    "Ejercicio 1: Importa a Numpy como np"
   ]
  },
  {
   "cell_type": "code",
   "execution_count": 1,
   "metadata": {
    "id": "sUTE41LjF8ie"
   },
   "outputs": [],
   "source": [
    "import numpy as np"
   ]
  },
  {
   "cell_type": "markdown",
   "metadata": {
    "id": "t1MtiumJGYhy"
   },
   "source": [
    "Ejercicio 2: Crea un array de la siguiente lista"
   ]
  },
  {
   "cell_type": "code",
   "execution_count": 4,
   "metadata": {
    "id": "gSc9alByGXzb"
   },
   "outputs": [
    {
     "data": {
      "text/plain": [
       "array([1, 2, 3, 4, 5])"
      ]
     },
     "execution_count": 4,
     "metadata": {},
     "output_type": "execute_result"
    }
   ],
   "source": [
    "lista = [1, 2, 3, 4, 5]\n",
    "lista_array = np.array(lista)\n",
    "lista_array"
   ]
  },
  {
   "cell_type": "markdown",
   "metadata": {
    "id": "f9802oagF8LB"
   },
   "source": [
    "Ejercicio 3: Suma los siguientes dos arrays"
   ]
  },
  {
   "cell_type": "code",
   "execution_count": 6,
   "metadata": {
    "id": "_RV5GqltF5hG"
   },
   "outputs": [],
   "source": [
    "a = np.array([[1,2,3],\n",
    "              [4,5,6]])\n",
    "\n",
    "b = np.array([[10,11,12],\n",
    "              [13,14,15]])"
   ]
  },
  {
   "cell_type": "code",
   "execution_count": 7,
   "metadata": {
    "id": "7SyyK7CkGWzk"
   },
   "outputs": [
    {
     "data": {
      "text/plain": [
       "array([[11, 13, 15],\n",
       "       [17, 19, 21]])"
      ]
     },
     "execution_count": 7,
     "metadata": {},
     "output_type": "execute_result"
    }
   ],
   "source": [
    "a+b"
   ]
  },
  {
   "cell_type": "markdown",
   "metadata": {
    "id": "JMJJmKfuGhen"
   },
   "source": [
    "Ejercicio 4: Multiplica por 3.2 al siguiente array (una matriz)"
   ]
  },
  {
   "cell_type": "code",
   "execution_count": 8,
   "metadata": {
    "id": "dfS84I4FGhLK"
   },
   "outputs": [],
   "source": [
    "a = np.array([[4,2,2],\n",
    "              [4,1,0]])"
   ]
  },
  {
   "cell_type": "code",
   "execution_count": 9,
   "metadata": {},
   "outputs": [
    {
     "data": {
      "text/plain": [
       "array([[12.8,  6.4,  6.4],\n",
       "       [12.8,  3.2,  0. ]])"
      ]
     },
     "execution_count": 9,
     "metadata": {},
     "output_type": "execute_result"
    }
   ],
   "source": [
    "a*3.2"
   ]
  },
  {
   "cell_type": "markdown",
   "metadata": {
    "id": "aqee7RrwGyx8"
   },
   "source": [
    "Ejercicio 5: Convierta en una matriz cuadrada al siguiente array unidimensional.\n",
    "\n",
    "1. Usando shape fijate que dimension tiene el array\n",
    "2. Usando .reshape() convierta al array en una matriz cuadrada\n"
   ]
  },
  {
   "cell_type": "code",
   "execution_count": 16,
   "metadata": {
    "id": "o3kCaNBOHHTX"
   },
   "outputs": [
    {
     "data": {
      "text/plain": [
       "array([[0, 1, 2],\n",
       "       [3, 4, 5],\n",
       "       [6, 7, 8]])"
      ]
     },
     "execution_count": 16,
     "metadata": {},
     "output_type": "execute_result"
    }
   ],
   "source": [
    "a = np.array([x for x in range(9)])\n",
    "\n",
    "a_cuadrada = np.reshape(a, (3,3))\n",
    "a_cuadrada"
   ]
  },
  {
   "cell_type": "markdown",
   "metadata": {
    "id": "DrapZG0NInQv"
   },
   "source": [
    "Ejercicio 6: Convierta el tipo del siguiente array en entero (int)"
   ]
  },
  {
   "cell_type": "code",
   "execution_count": 17,
   "metadata": {
    "id": "CK9wJUZTIlIR"
   },
   "outputs": [],
   "source": [
    "a = np.array([[2.5, 3.8, 1.5],\n",
    "              [4.7, 2.9, 1.56]])\n"
   ]
  },
  {
   "cell_type": "code",
   "execution_count": 20,
   "metadata": {},
   "outputs": [
    {
     "name": "stdout",
     "output_type": "stream",
     "text": [
      "[[2 3 1]\n",
      " [4 2 1]]\n"
     ]
    }
   ],
   "source": [
    "a_int = a.astype(int)\n",
    "print(a_int)"
   ]
  },
  {
   "cell_type": "markdown",
   "metadata": {
    "id": "PT87pa6iIy7-"
   },
   "source": [
    "Ejercicio 7: Crea una matriz de identidad de orden 5 (usando np.eye) y luego transforma el tipo en booleano (bool)"
   ]
  },
  {
   "cell_type": "code",
   "execution_count": 22,
   "metadata": {
    "id": "3Twi1VJ9IyZW"
   },
   "outputs": [],
   "source": [
    "a = np.eye(5)"
   ]
  },
  {
   "cell_type": "code",
   "execution_count": 24,
   "metadata": {},
   "outputs": [
    {
     "data": {
      "text/plain": [
       "array([[ True, False, False, False, False],\n",
       "       [False,  True, False, False, False],\n",
       "       [False, False,  True, False, False],\n",
       "       [False, False, False,  True, False],\n",
       "       [False, False, False, False,  True]])"
      ]
     },
     "execution_count": 24,
     "metadata": {},
     "output_type": "execute_result"
    }
   ],
   "source": [
    "bool_matrix_5 = a.astype(bool)\n",
    "bool_matrix_5"
   ]
  },
  {
   "cell_type": "markdown",
   "metadata": {
    "id": "F6pxK5t9JF5v"
   },
   "source": [
    "Ejercicio 8: Cocatena de forma horizontal (una al costado de la otra) los siguientes arrays"
   ]
  },
  {
   "cell_type": "code",
   "execution_count": 25,
   "metadata": {
    "id": "1v1Bx830JFrc"
   },
   "outputs": [],
   "source": [
    "a1 = np.array([[1,2,3],\n",
    "               [4,5,6]])\n",
    "\n",
    "a2 = np.array([[7,8,9],\n",
    "               [10,11,12]])\n",
    "\n"
   ]
  },
  {
   "cell_type": "code",
   "execution_count": 28,
   "metadata": {
    "id": "n9rFcZBoJcP2"
   },
   "outputs": [
    {
     "data": {
      "text/plain": [
       "array([[ 1,  2,  3,  7,  8,  9],\n",
       "       [ 4,  5,  6, 10, 11, 12]])"
      ]
     },
     "execution_count": 28,
     "metadata": {},
     "output_type": "execute_result"
    }
   ],
   "source": [
    "a1_2 = np.concatenate((a1,a2), axis=1)\n",
    "\n",
    "a1_2"
   ]
  },
  {
   "cell_type": "markdown",
   "metadata": {
    "id": "cYAcl2ICJQok"
   },
   "source": [
    "Ejercicio 9: Cocatena de forma vertical los mismos array"
   ]
  },
  {
   "cell_type": "code",
   "execution_count": 30,
   "metadata": {
    "id": "XQjHizMeJZbi"
   },
   "outputs": [
    {
     "data": {
      "text/plain": [
       "array([[ 1,  2,  3],\n",
       "       [ 4,  5,  6],\n",
       "       [ 7,  8,  9],\n",
       "       [10, 11, 12]])"
      ]
     },
     "execution_count": 30,
     "metadata": {},
     "output_type": "execute_result"
    }
   ],
   "source": [
    "a1_2_v = np.concatenate((a1,a2), axis=0)\n",
    "a1_2_v"
   ]
  },
  {
   "cell_type": "markdown",
   "metadata": {
    "id": "JC2aj9LPJc4P"
   },
   "source": [
    "Ejercicio 9: Crea un array unidimensional que tenga los numeros de 0 a 100 (incluido) con saltos de 2."
   ]
  },
  {
   "cell_type": "code",
   "execution_count": 33,
   "metadata": {
    "id": "-WnpmxL6JoR0"
   },
   "outputs": [
    {
     "data": {
      "text/plain": [
       "array([  0,   2,   4,   6,   8,  10,  12,  14,  16,  18,  20,  22,  24,\n",
       "        26,  28,  30,  32,  34,  36,  38,  40,  42,  44,  46,  48,  50,\n",
       "        52,  54,  56,  58,  60,  62,  64,  66,  68,  70,  72,  74,  76,\n",
       "        78,  80,  82,  84,  86,  88,  90,  92,  94,  96,  98, 100])"
      ]
     },
     "execution_count": 33,
     "metadata": {},
     "output_type": "execute_result"
    }
   ],
   "source": [
    "a= np.array([x for x in range(0,101,2)])\n",
    "a"
   ]
  },
  {
   "cell_type": "markdown",
   "metadata": {
    "id": "iK_xk2yEJo_n"
   },
   "source": [
    "Ejercicio 10: Usando np.where() compara en que elementos el array **a** es mayor al array **b**"
   ]
  },
  {
   "cell_type": "code",
   "execution_count": 35,
   "metadata": {
    "id": "c8BRhng_Jpeo"
   },
   "outputs": [],
   "source": [
    "a = np.array([1,2,3,4,6])\n",
    "\n",
    "b = np.array([1,3,2,4,5])"
   ]
  },
  {
   "cell_type": "code",
   "execution_count": 37,
   "metadata": {
    "id": "0sniSYGIJ6Aj"
   },
   "outputs": [
    {
     "data": {
      "text/plain": [
       "(array([2, 4]),)"
      ]
     },
     "execution_count": 37,
     "metadata": {},
     "output_type": "execute_result"
    }
   ],
   "source": [
    "np.where(a > b)"
   ]
  },
  {
   "cell_type": "markdown",
   "metadata": {
    "id": "4jcNe8u1J7SY"
   },
   "source": [
    "Ejercicio 11: Genera en un array una secuencia separada de forma equidistante de 5 numeros que van de 0 a 100 (inclusive ambos)"
   ]
  },
  {
   "cell_type": "code",
   "execution_count": 38,
   "metadata": {
    "id": "yhfr6KKqKIL1"
   },
   "outputs": [
    {
     "data": {
      "text/plain": [
       "array([  0,   5,  10,  15,  20,  25,  30,  35,  40,  45,  50,  55,  60,\n",
       "        65,  70,  75,  80,  85,  90,  95, 100])"
      ]
     },
     "execution_count": 38,
     "metadata": {},
     "output_type": "execute_result"
    }
   ],
   "source": [
    "a= np.array([x for x in range(0,101,5)])\n",
    "a"
   ]
  },
  {
   "cell_type": "code",
   "execution_count": 39,
   "metadata": {},
   "outputs": [
    {
     "name": "stdout",
     "output_type": "stream",
     "text": [
      "[  0   5  10  15  20  25  30  35  40  45  50  55  60  65  70  75  80  85\n",
      "  90  95 100]\n"
     ]
    }
   ],
   "source": [
    "\n",
    "a = np.arange(0, 101, 5)\n",
    "print(a)"
   ]
  },
  {
   "cell_type": "markdown",
   "metadata": {
    "id": "sP6tN0hpKH4g"
   },
   "source": [
    "Ejercicio 12: Crea una matriz de 2x3 con todos los valores igual a 23 (Hint: podes usar [np.full](https://numpy.org/doc/stable/reference/generated/numpy.full.html) o [np.eye](https://numpy.org/devdocs/reference/generated/numpy.eye.html))\n"
   ]
  },
  {
   "cell_type": "code",
   "execution_count": 41,
   "metadata": {
    "id": "3-7aVWoMKWDI"
   },
   "outputs": [
    {
     "data": {
      "text/plain": [
       "array([[23, 23, 23],\n",
       "       [23, 23, 23]])"
      ]
     },
     "execution_count": 41,
     "metadata": {},
     "output_type": "execute_result"
    }
   ],
   "source": [
    "a= np.full((2,3),23)\n",
    "a"
   ]
  },
  {
   "cell_type": "markdown",
   "metadata": {
    "id": "jTA6GgK6KWxJ"
   },
   "source": [
    "Ejercicio 13: Crea un array de 8x2 numeros aleatorios que sigan la distribucion normal (Hint: [np.random.normal](https://numpy.org/doc/stable/reference/random/generated/numpy.random.normal.html))"
   ]
  },
  {
   "cell_type": "code",
   "execution_count": 44,
   "metadata": {
    "id": "NrBM7CLoKixi"
   },
   "outputs": [
    {
     "data": {
      "text/plain": [
       "array([[ 0.02760752,  0.40253818],\n",
       "       [-1.33028231,  0.84771921],\n",
       "       [-0.63987624, -0.22605377],\n",
       "       [-0.75396184, -0.73444147],\n",
       "       [-1.85143014, -1.41634314],\n",
       "       [ 0.96281709, -1.15730216],\n",
       "       [-0.10330454, -0.02519793],\n",
       "       [-1.53876986,  0.316888  ]])"
      ]
     },
     "execution_count": 44,
     "metadata": {},
     "output_type": "execute_result"
    }
   ],
   "source": [
    "np.random.normal(loc=0.0, scale=1.0, size=(8,2))\n"
   ]
  },
  {
   "cell_type": "markdown",
   "metadata": {
    "id": "b99SuyreKjtb"
   },
   "source": [
    "Ejercicio 14: Dadas las siguientes matrices, multipliquelas como matrices. Luego multipliquelas como si fueran arrays"
   ]
  },
  {
   "cell_type": "code",
   "execution_count": 45,
   "metadata": {
    "id": "YKuJiQ4nKocj"
   },
   "outputs": [],
   "source": [
    "a = np.array([[1,2,3],\n",
    "              [4,5,6],\n",
    "              [7,8,9]])\n",
    "\n",
    "b = np.array([[2,3,4],\n",
    "              [5,6,7],\n",
    "              [8,9,10]])"
   ]
  },
  {
   "cell_type": "code",
   "execution_count": 46,
   "metadata": {
    "id": "NtcDBE9kKqRC"
   },
   "outputs": [
    {
     "data": {
      "text/plain": [
       "array([[ 36,  42,  48],\n",
       "       [ 81,  96, 111],\n",
       "       [126, 150, 174]])"
      ]
     },
     "execution_count": 46,
     "metadata": {},
     "output_type": "execute_result"
    }
   ],
   "source": [
    "np.matmul(a,b)"
   ]
  },
  {
   "cell_type": "code",
   "execution_count": 47,
   "metadata": {},
   "outputs": [
    {
     "data": {
      "text/plain": [
       "array([[ 2,  6, 12],\n",
       "       [20, 30, 42],\n",
       "       [56, 72, 90]])"
      ]
     },
     "execution_count": 47,
     "metadata": {},
     "output_type": "execute_result"
    }
   ],
   "source": [
    "a*b"
   ]
  },
  {
   "cell_type": "code",
   "execution_count": 48,
   "metadata": {},
   "outputs": [
    {
     "data": {
      "text/plain": [
       "array([[ 36,  42,  48],\n",
       "       [ 81,  96, 111],\n",
       "       [126, 150, 174]])"
      ]
     },
     "execution_count": 48,
     "metadata": {},
     "output_type": "execute_result"
    }
   ],
   "source": [
    "a@b"
   ]
  },
  {
   "cell_type": "markdown",
   "metadata": {
    "id": "ZES6IGHeK2TF"
   },
   "source": [
    "Ejercicio 15: Dado el siguiente array, ordenelo de forma ascendente (Hint: [np.argsort](https://numpy.org/doc/stable/reference/generated/numpy.argsort.html)). Luego de forma descendente."
   ]
  },
  {
   "cell_type": "code",
   "execution_count": 69,
   "metadata": {},
   "outputs": [],
   "source": [
    "a = np.array([1, 0, 82, 2, 939, 91, 1101, 199, 292, 2, 923, 387, 38, 299])"
   ]
  },
  {
   "cell_type": "code",
   "execution_count": 70,
   "metadata": {
    "id": "HzK_z4riLnsd"
   },
   "outputs": [
    {
     "name": "stdout",
     "output_type": "stream",
     "text": [
      "Ascendente: [   0    1    2    2   38   82   91  199  292  299  387  923  939 1101]\n"
     ]
    }
   ],
   "source": [
    "indices_asc = np.argsort(a)\n",
    "a_sorted_asc = a[indices_asc]\n",
    "\n",
    "print(\"Ascendente:\", a_sorted_asc)"
   ]
  },
  {
   "cell_type": "markdown",
   "metadata": {
    "id": "PwVvydF6SCqQ"
   },
   "source": [
    "----"
   ]
  },
  {
   "cell_type": "markdown",
   "metadata": {
    "id": "Zbf2yCCYLokv"
   },
   "source": [
    "Ejercicio 16: Lee el csv venta_libros en un array. Luego separa las columnas en 3 arrays diferentes, el primero llamado year, el segundo month, y el tercero books"
   ]
  },
  {
   "cell_type": "code",
   "execution_count": 78,
   "metadata": {},
   "outputs": [
    {
     "name": "stdout",
     "output_type": "stream",
     "text": [
      "c:\\Users\\60080956\\Documents\\CEIA\\intro_ia\\clase1\\ejercicios\n"
     ]
    }
   ],
   "source": [
    "import os\n",
    "print(os.getcwd())"
   ]
  },
  {
   "cell_type": "code",
   "execution_count": 85,
   "metadata": {
    "id": "HGpomf8RNmD9"
   },
   "outputs": [],
   "source": [
    "# Import csv data\n",
    "\n",
    "# Cambia la ruta al archivo según corresponda. Si está en el mismo directorio:\n",
    "venta_libros_data = np.loadtxt(r'datasets/venta_libros.csv', delimiter=',', skiprows=1)"
   ]
  },
  {
   "cell_type": "markdown",
   "metadata": {
    "id": "a5JHu4CbNpCK"
   },
   "source": [
    "Usando np.max() obtenga el valor de ventas de libros más alto. Luego, busque a que mes y años corresponde"
   ]
  },
  {
   "cell_type": "code",
   "execution_count": 92,
   "metadata": {
    "id": "WkQ5CFe5N417"
   },
   "outputs": [],
   "source": [
    "max_ventas=np.max(venta_libros_data[:,2])\n",
    "fila_max=np.argmax(venta_libros_data[:,2])"
   ]
  },
  {
   "cell_type": "code",
   "execution_count": 96,
   "metadata": {},
   "outputs": [
    {
     "name": "stdout",
     "output_type": "stream",
     "text": [
      "Ventas: 489.0\n",
      "Año: 2021\n",
      "Mes: 8\n"
     ]
    }
   ],
   "source": [
    "print(f\"Ventas: {float(max_ventas)}\")\n",
    "print(f\"Año: {int(venta_libros_data[fila_max,0])}\")\n",
    "print(f\"Mes: {int(venta_libros_data[fila_max,1])}\")"
   ]
  },
  {
   "cell_type": "markdown",
   "metadata": {
    "id": "0d1ViVGTRVAD"
   },
   "source": [
    "Calcula las ventas totales, las ventas promedio, la mediana de las ventas y el desvio estandar (Hint: [np.sum](https://numpy.org/doc/stable/reference/generated/numpy.sum.html), [np.mean](https://numpy.org/doc/stable/reference/generated/numpy.mean.html), [np.median](https://numpy.org/doc/stable/reference/generated/numpy.median.html), [np.std](https://numpy.org/doc/stable/reference/generated/numpy.std.html))"
   ]
  },
  {
   "cell_type": "code",
   "execution_count": 97,
   "metadata": {
    "id": "UpqqRc5zRRZr"
   },
   "outputs": [
    {
     "data": {
      "text/plain": [
       "np.float64(12436.0)"
      ]
     },
     "execution_count": 97,
     "metadata": {},
     "output_type": "execute_result"
    }
   ],
   "source": [
    "np.sum(venta_libros_data[:,2])"
   ]
  },
  {
   "cell_type": "code",
   "execution_count": 98,
   "metadata": {
    "id": "IO65VuSoN5yp"
   },
   "outputs": [
    {
     "data": {
      "text/plain": [
       "np.float64(264.59574468085106)"
      ]
     },
     "execution_count": 98,
     "metadata": {},
     "output_type": "execute_result"
    }
   ],
   "source": [
    "np.mean(venta_libros_data[:,2])"
   ]
  },
  {
   "cell_type": "code",
   "execution_count": 99,
   "metadata": {},
   "outputs": [
    {
     "data": {
      "text/plain": [
       "np.float64(276.0)"
      ]
     },
     "execution_count": 99,
     "metadata": {},
     "output_type": "execute_result"
    }
   ],
   "source": [
    "np.median(venta_libros_data[:,2])"
   ]
  },
  {
   "cell_type": "code",
   "execution_count": 100,
   "metadata": {},
   "outputs": [
    {
     "data": {
      "text/plain": [
       "np.float64(136.14223781788837)"
      ]
     },
     "execution_count": 100,
     "metadata": {},
     "output_type": "execute_result"
    }
   ],
   "source": [
    "np.std(venta_libros_data[:,2])"
   ]
  }
 ],
 "metadata": {
  "colab": {
   "authorship_tag": "ABX9TyOy12cJEqDJrsnQOoRjNNSW",
   "provenance": []
  },
  "kernelspec": {
   "display_name": "Python 3",
   "name": "python3"
  },
  "language_info": {
   "codemirror_mode": {
    "name": "ipython",
    "version": 3
   },
   "file_extension": ".py",
   "mimetype": "text/x-python",
   "name": "python",
   "nbconvert_exporter": "python",
   "pygments_lexer": "ipython3",
   "version": "3.13.3"
  }
 },
 "nbformat": 4,
 "nbformat_minor": 0
}
